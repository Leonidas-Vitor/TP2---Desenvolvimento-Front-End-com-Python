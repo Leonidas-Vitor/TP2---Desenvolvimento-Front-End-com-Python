{
 "cells": [
  {
   "cell_type": "code",
   "execution_count": 4,
   "metadata": {},
   "outputs": [],
   "source": [
    "import pandas as pd\n",
    "from geopy.geocoders import Nominatim\n",
    "import time\n",
    "from tqdm import tqdm"
   ]
  },
  {
   "cell_type": "code",
   "execution_count": 6,
   "metadata": {},
   "outputs": [
    {
     "name": "stderr",
     "output_type": "stream",
     "text": [
      "Coletando coordenadas: 100%|██████████| 5570/5570 [2:06:51<00:00,  1.37s/it]  \n"
     ]
    }
   ],
   "source": [
    "df_1 = pd.read_csv('https://api.onedrive.com/v1.0/shares/s!Asuw4D2AHTOZmZ1Y4DEo06n0wxvurw/root/content', sep=';')\n",
    "df_2 = pd.read_csv('https://api.onedrive.com/v1.0/shares/s!Asuw4D2AHTOZmZ1JcL7FojJ8B7yRKA/root/content', sep=';')\n",
    "df = pd.concat([df_1, df_2])\n",
    "\n",
    "df_coords = df.groupby(['regiao', 'estado', 'municipio']).max().reset_index()\n",
    "df_coords = df_coords[df_coords['regiao'] != 'Brasil']\n",
    "\n",
    "\n",
    "geolocator = Nominatim(user_agent=\"municipality_locator\")\n",
    "for i in tqdm(df_coords.index, desc=\"Coletando coordenadas\" ):\n",
    "    location = geolocator.geocode(df_coords.loc[i,'municipio'] + ', ' + df_coords.loc[i,'estado'])\n",
    "    df_coords.loc[i,'latitude'] = location.latitude\n",
    "    df_coords.loc[i,'longitude'] = location.longitude\n",
    "    time.sleep(1.1)\n",
    "\n",
    "df_coords.to_csv('data/municipios_coords.csv', index=False)"
   ]
  }
 ],
 "metadata": {
  "kernelspec": {
   "display_name": "tp2_front_end_env",
   "language": "python",
   "name": "python3"
  },
  "language_info": {
   "codemirror_mode": {
    "name": "ipython",
    "version": 3
   },
   "file_extension": ".py",
   "mimetype": "text/x-python",
   "name": "python",
   "nbconvert_exporter": "python",
   "pygments_lexer": "ipython3",
   "version": "3.11.5"
  }
 },
 "nbformat": 4,
 "nbformat_minor": 2
}
